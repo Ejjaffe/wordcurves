{
 "cells": [
  {
   "cell_type": "code",
   "execution_count": 1,
   "metadata": {},
   "outputs": [],
   "source": [
    "import sys\n",
    "sys.path.insert(0, '../')\n",
    "\n",
    "from src import words"
   ]
  },
  {
   "cell_type": "markdown",
   "metadata": {},
   "source": [
    "# Creating Words With The `words` Library"
   ]
  },
  {
   "cell_type": "markdown",
   "metadata": {},
   "source": [
    "## Fibonacci\n",
    "Generate classic words like the fibonacci words, $f_n$:\n",
    "\n",
    "$$f_0=0;\\;f_1=01$$\n",
    "\n",
    "$$f_n=f_{n-1}f_{n-2}$$"
   ]
  },
  {
   "cell_type": "code",
   "execution_count": 2,
   "metadata": {},
   "outputs": [
    {
     "name": "stdout",
     "output_type": "stream",
     "text": [
      "010\n"
     ]
    }
   ],
   "source": [
    "print(words.fibonacci(3))"
   ]
  },
  {
   "cell_type": "markdown",
   "metadata": {},
   "source": [
    "The parameter `return_all=True` returns all the previous words used to create your current word."
   ]
  },
  {
   "cell_type": "code",
   "execution_count": 3,
   "metadata": {},
   "outputs": [
    {
     "name": "stdout",
     "output_type": "stream",
     "text": [
      "['0', '01', '010', '01001', '01001010']\n"
     ]
    }
   ],
   "source": [
    "print(words.fibonacci(5, return_all=True))"
   ]
  },
  {
   "cell_type": "markdown",
   "metadata": {},
   "source": [
    "The `t` method swaps the last two characters of any word."
   ]
  },
  {
   "cell_type": "code",
   "execution_count": 4,
   "metadata": {},
   "outputs": [
    {
     "name": "stdout",
     "output_type": "stream",
     "text": [
      "f:01001010\n",
      "t:01001001\n"
     ]
    }
   ],
   "source": [
    "w = words.fibonacci(5)\n",
    "print('f:'+w+'\\nt:'+words.t(w))"
   ]
  },
  {
   "cell_type": "markdown",
   "metadata": {},
   "source": [
    "## $i$-Fibonacci\n",
    "The library can create generalized $i$-Fibonacci words $f^{[i]}_n$:\n",
    "\n",
    "$$f^{[i]}_0 = 0;\\; f^{[i]}_1 = 0^{i-1} \\,1$$\n",
    "\n",
    "$$f^{[i]}_n = f^{[i]}_{n-1} f^{[i]}_{n-2}$$"
   ]
  },
  {
   "cell_type": "code",
   "execution_count": 5,
   "metadata": {},
   "outputs": [
    {
     "name": "stdout",
     "output_type": "stream",
     "text": [
      "['0', '001', '0010', '0010001', '00100010010']\n"
     ]
    }
   ],
   "source": [
    "print(words.i_fibonacci(n=5, i=3, return_all=True))"
   ]
  },
  {
   "cell_type": "markdown",
   "metadata": {},
   "source": [
    "## $k$-nacci\n",
    "Creake the $k$-nacci words $f_{(k,n)}$:\n",
    "\n",
    "$$f_{(k,0)}=0;\\;f_{(k,1)}=0^{i-1}1$$\n",
    "\n",
    "$$f_{(k,n)}=f_{(k,n-1)}^k f_{(k,n-2)}$$"
   ]
  },
  {
   "cell_type": "code",
   "execution_count": 6,
   "metadata": {},
   "outputs": [
    {
     "name": "stdout",
     "output_type": "stream",
     "text": [
      "['0', '001', '0010010010', '001001001000100100100010010010001', '0010010010001001001000100100100010010010010001001001000100100100010010010010001001001000100100100010010010010']\n"
     ]
    }
   ],
   "source": [
    "print(words.knacci(n=5, k=3, return_all=True))"
   ]
  },
  {
   "cell_type": "markdown",
   "metadata": {},
   "source": [
    "## Bi-periodic Fibonacci\n",
    "Create the bi-periodic $k$-nacci words $f_{n}^{(a,b)}$:\n",
    "\n",
    "$$f_{0}^{(a,b)}=0^{a-1}1;\\;f_{1}^{(a,b)}=0^{b-1}1$$\n",
    "\n",
    "$$f_{n}^{(a,b)} = \\begin{cases}(f_{n-1}^{(a,b)})^a f_{n-2}^{(a,b)}&n\\text{ even}\\\\(f_{n-1}^{(a,b)})^b f_{n-2}^{(a,b)}&n\\text{ odd}\\\\\\end{cases}$$"
   ]
  },
  {
   "cell_type": "code",
   "execution_count": 7,
   "metadata": {},
   "outputs": [
    {
     "name": "stdout",
     "output_type": "stream",
     "text": [
      "['01', '00001', '000010000101', '00001000010100001000010100001000010100001000010100001000010100001']\n"
     ]
    }
   ],
   "source": [
    "print(words.biperiodic(n=4, a=2, b=5, return_all=True))"
   ]
  },
  {
   "cell_type": "markdown",
   "metadata": {},
   "source": [
    "Create the tribonacci words $T_n$:\n",
    "\n",
    "$$T_0=1;\\;T_1=01;\\;T_2=001$$\n",
    "\n",
    "$$T_n = T_{n-1} T_{n-2} T_{n-3}$$"
   ]
  },
  {
   "cell_type": "code",
   "execution_count": 8,
   "metadata": {},
   "outputs": [
    {
     "name": "stdout",
     "output_type": "stream",
     "text": [
      "['1', '01', '001', '001011', '00101100101', '00101100101001011001']\n"
     ]
    }
   ],
   "source": [
    "print(words.tribonacci(6, return_all=True))"
   ]
  },
  {
   "cell_type": "markdown",
   "metadata": {},
   "source": [
    "## Other Generalizations\n",
    "Create any recursively generated words easily with `wordgen`.\n",
    "1. Define your `base_cases`, a list of strings to start with.\n",
    "2. Define the recursive `rule` that takes in a list of all previously made words (most recent last) and returns a new string.\n",
    "3. Specify the $n$th word with `iters`. Index starts at $0$ with the first base case.\n",
    "4. Specify if you want all the words or just the last one with `return_all=True`\n",
    "\n",
    "Notes on the `rule` method:"
   ]
  },
  {
   "cell_type": "code",
   "execution_count": 9,
   "metadata": {},
   "outputs": [
    {
     "data": {
      "text/plain": [
       "'word_3 word_3 word_2 word_2 word_2 '"
      ]
     },
     "execution_count": 9,
     "metadata": {},
     "output_type": "execute_result"
    }
   ],
   "source": [
    "# a sample rule method\n",
    "def rule(words):\n",
    "    # sample input:\n",
    "    # words = [base_case_0, base_case_1, word_2, word_3]\n",
    "    # do something to get word_4\n",
    "    # in this case, 2 copies of the last word followed by 3 copies of the word before that\n",
    "    next_word = words[-1] * 2 + words[-2] * 3\n",
    "    return next_word\n",
    "\n",
    "sample_words = ['base_case_0 ', 'base_case_1 ', 'word_2 ', 'word_3 ']\n",
    "rule(sample_words)"
   ]
  },
  {
   "cell_type": "code",
   "execution_count": 10,
   "metadata": {},
   "outputs": [
    {
     "data": {
      "text/plain": [
       "'word_4 '"
      ]
     },
     "execution_count": 10,
     "metadata": {},
     "output_type": "execute_result"
    }
   ],
   "source": [
    "# another sample rule method, this time with len() for index-awareness\n",
    "def rule(words):\n",
    "    # sample input:\n",
    "    # words = [base_case_0, base_case_1, word_2, word_3]\n",
    "    # do something to get word_4\n",
    "    # in this case, 2 copies of the last word followed by 3 copies of the word before that\n",
    "    next_word = f'word_{len(words)} '\n",
    "    return next_word\n",
    "\n",
    "sample_words = ['base_case_0 ', 'base_case_1 ', 'word_2 ', 'word_3 ']\n",
    "rule(sample_words)"
   ]
  },
  {
   "cell_type": "markdown",
   "metadata": {},
   "source": [
    "Example: Create the $7$th fibonacci word with wordgen:"
   ]
  },
  {
   "cell_type": "code",
   "execution_count": 11,
   "metadata": {},
   "outputs": [
    {
     "name": "stdout",
     "output_type": "stream",
     "text": [
      "010010100100101001010\n"
     ]
    }
   ],
   "source": [
    "fibonacci_rule = lambda w: w[-1] + w[-2]\n",
    "w = words.wordgen(\n",
    "    iters=7, \n",
    "    base_cases=['0','01'], \n",
    "    rule=fibonacci_rule, \n",
    ")\n",
    "\n",
    "print(w)"
   ]
  },
  {
   "cell_type": "markdown",
   "metadata": {},
   "source": [
    "Example: every other char from the previous word, plus all from the word before that:"
   ]
  },
  {
   "cell_type": "code",
   "execution_count": 12,
   "metadata": {},
   "outputs": [
    {
     "name": "stdout",
     "output_type": "stream",
     "text": [
      "['00', '10010', '10000', '10010010', '100110000', '1010010010010', '1100100100110000']\n"
     ]
    }
   ],
   "source": [
    "custom_rule = lambda w: w[-1][::2] + w[-2]\n",
    "\n",
    "w = words.wordgen(\n",
    "    iters=7, \n",
    "    base_cases=['00','10010'], \n",
    "    rule=custom_rule,\n",
    "    return_all=True\n",
    ")\n",
    "print(w)"
   ]
  },
  {
   "cell_type": "markdown",
   "metadata": {},
   "source": [
    "Use custom `rule`s and _any_ UTF-8 characters to explore recursive word structures."
   ]
  },
  {
   "cell_type": "code",
   "execution_count": 13,
   "metadata": {},
   "outputs": [
    {
     "name": "stdout",
     "output_type": "stream",
     "text": [
      "['f0', 'f1', '(f0 f1)', '(f0 f1 (f0 f1))', '(f0 f1 (f0 f1) (f0 f1 (f0 f1)))', '(f0 f1 (f0 f1) (f0 f1 (f0 f1)) (f0 f1 (f0 f1) (f0 f1 (f0 f1))))']\n"
     ]
    }
   ],
   "source": [
    "custom_rule = lambda w: '(' + ' '.join(w) + ')'\n",
    "w = words.wordgen(iters=6, base_cases=['f0','f1'], rule = custom_rule, return_all=True)\n",
    "print(w)"
   ]
  }
 ],
 "metadata": {
  "kernelspec": {
   "display_name": "Python 3",
   "language": "python",
   "name": "python3"
  },
  "language_info": {
   "codemirror_mode": {
    "name": "ipython",
    "version": 3
   },
   "file_extension": ".py",
   "mimetype": "text/x-python",
   "name": "python",
   "nbconvert_exporter": "python",
   "pygments_lexer": "ipython3",
   "version": "3.8.5"
  }
 },
 "nbformat": 4,
 "nbformat_minor": 4
}
